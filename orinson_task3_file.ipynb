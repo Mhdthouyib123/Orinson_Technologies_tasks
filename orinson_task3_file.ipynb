{
  "cells": [
    {
      "cell_type": "markdown",
      "source": [
        "# SENTIMENT ANALYSIS"
      ],
      "metadata": {
        "id": "q87mPSGxESuU"
      }
    },
    {
      "cell_type": "markdown",
      "source": [
        "#  Importing Libraries"
      ],
      "metadata": {
        "id": "AHwcHHbuENK1"
      }
    },
    {
      "cell_type": "code",
      "execution_count": 27,
      "metadata": {
        "id": "YyWWxDN-L9Zg"
      },
      "outputs": [],
      "source": [
        "import pandas as pd\n",
        "import numpy as np\n",
        "import warnings\n",
        "warnings.filterwarnings(\"ignore\")"
      ]
    },
    {
      "cell_type": "markdown",
      "source": [
        "# Loading the Dataset"
      ],
      "metadata": {
        "id": "PqIKKTAxEgHG"
      }
    },
    {
      "cell_type": "code",
      "execution_count": null,
      "metadata": {
        "id": "dVkpEXi2Mgnc"
      },
      "outputs": [],
      "source": [
        "df = pd.read_csv('/content/IMDB Dataset.csv')\n",
        "df"
      ]
    },
    {
      "cell_type": "markdown",
      "source": [
        "# Counting Sentiments"
      ],
      "metadata": {
        "id": "3-1ehykJElS0"
      }
    },
    {
      "cell_type": "code",
      "execution_count": null,
      "metadata": {
        "id": "YPBWjBnLZX4a"
      },
      "outputs": [],
      "source": [
        "df[\"sentiment\"].value_counts()"
      ]
    },
    {
      "cell_type": "markdown",
      "source": [
        "# Encoding Sentiment Labels"
      ],
      "metadata": {
        "id": "eaJNnC7YEwp7"
      }
    },
    {
      "cell_type": "code",
      "execution_count": 4,
      "metadata": {
        "id": "bGwLIXJuZ5fk"
      },
      "outputs": [],
      "source": [
        "df.replace ({\"sentiment\": {\"positive\" : 1 , \"negative\" : 0}} , inplace = True)"
      ]
    },
    {
      "cell_type": "code",
      "execution_count": null,
      "metadata": {
        "id": "9IOwmewAa7_P"
      },
      "outputs": [],
      "source": [
        "df"
      ]
    },
    {
      "cell_type": "code",
      "execution_count": null,
      "metadata": {
        "id": "h0-q2dM2bDWh"
      },
      "outputs": [],
      "source": [
        "df.head()"
      ]
    },
    {
      "cell_type": "code",
      "execution_count": null,
      "metadata": {
        "id": "3br8qfZKbME-"
      },
      "outputs": [],
      "source": [
        "df.tail()"
      ]
    },
    {
      "cell_type": "code",
      "execution_count": null,
      "metadata": {
        "id": "i9a1LtyKbPH1"
      },
      "outputs": [],
      "source": [
        "df[\"sentiment\"].value_counts()"
      ]
    },
    {
      "cell_type": "markdown",
      "source": [
        "# Importing Key Libraries for Modeling"
      ],
      "metadata": {
        "id": "EJyIm6H7E9Py"
      }
    },
    {
      "cell_type": "code",
      "execution_count": 9,
      "metadata": {
        "id": "aAep6syXb4J-"
      },
      "outputs": [],
      "source": [
        "from sklearn.model_selection import train_test_split\n",
        "from tensorflow.keras.models import Sequential\n",
        "from tensorflow.keras.layers import Dense, Embedding, LSTM\n",
        "from tensorflow.keras.preprocessing.text import Tokenizer\n",
        "from tensorflow.keras.preprocessing.sequence import pad_sequences"
      ]
    },
    {
      "cell_type": "markdown",
      "source": [
        "# Splitting Data"
      ],
      "metadata": {
        "id": "NBeRsqh_FCBa"
      }
    },
    {
      "cell_type": "code",
      "execution_count": 10,
      "metadata": {
        "id": "ikAHhETUdDNT"
      },
      "outputs": [],
      "source": [
        "train_data , test_data = train_test_split(df , test_size = 0.2 , random_state=42 )"
      ]
    },
    {
      "cell_type": "code",
      "execution_count": null,
      "metadata": {
        "id": "xQ0RGBLndpL-"
      },
      "outputs": [],
      "source": [
        "train_data"
      ]
    },
    {
      "cell_type": "code",
      "execution_count": null,
      "metadata": {
        "id": "nu9J2vcHdrO2"
      },
      "outputs": [],
      "source": [
        "test_data"
      ]
    },
    {
      "cell_type": "markdown",
      "source": [
        "# Tokenizing Text Data"
      ],
      "metadata": {
        "id": "rrnG9-OqFHrG"
      }
    },
    {
      "cell_type": "code",
      "execution_count": 13,
      "metadata": {
        "id": "tNwh5zWcduS-"
      },
      "outputs": [],
      "source": [
        "tokenizer = Tokenizer(num_words= 5000)\n",
        "tokenizer.fit_on_texts(train_data[\"review\"])"
      ]
    },
    {
      "cell_type": "markdown",
      "source": [
        "# Padding Sequences"
      ],
      "metadata": {
        "id": "R0fvZJtGFL3M"
      }
    },
    {
      "cell_type": "code",
      "execution_count": 14,
      "metadata": {
        "id": "uOeAAiYpeiyl"
      },
      "outputs": [],
      "source": [
        "x_train = pad_sequences(tokenizer.texts_to_sequences(train_data[\"review\"]),maxlen = 200)\n",
        "x_test = pad_sequences(tokenizer.texts_to_sequences(test_data[\"review\"]),maxlen = 200)"
      ]
    },
    {
      "cell_type": "code",
      "execution_count": null,
      "metadata": {
        "id": "6q1fFWwwfGwb"
      },
      "outputs": [],
      "source": [
        "x_train"
      ]
    },
    {
      "cell_type": "code",
      "execution_count": null,
      "metadata": {
        "id": "_sGzD4D0fZ2p"
      },
      "outputs": [],
      "source": [
        "x_test"
      ]
    },
    {
      "cell_type": "code",
      "execution_count": 17,
      "metadata": {
        "id": "HJbtrETufeoZ"
      },
      "outputs": [],
      "source": [
        "y_train = train_data[\"sentiment\"]\n",
        "y_test = test_data[\"sentiment\"]"
      ]
    },
    {
      "cell_type": "code",
      "execution_count": null,
      "metadata": {
        "id": "JNpHwgAIfths"
      },
      "outputs": [],
      "source": [
        "y_train"
      ]
    },
    {
      "cell_type": "markdown",
      "source": [
        "# Model Definition"
      ],
      "metadata": {
        "id": "44SBtkRHFUMY"
      }
    },
    {
      "cell_type": "code",
      "execution_count": 19,
      "metadata": {
        "id": "CpQCLn8ef7TJ"
      },
      "outputs": [],
      "source": [
        "model = Sequential()\n",
        "model.add(Embedding(input_dim= 5000 , output_dim= 128 , input_length = 200))\n",
        "model.add(LSTM(128 , dropout=0.2 , recurrent_dropout= 0.2))\n",
        "model.add(Dense(1, activation=\"sigmoid\"))\n",
        "model.build(input_shape=(None, 200))"
      ]
    },
    {
      "cell_type": "code",
      "execution_count": null,
      "metadata": {
        "id": "NOCGJX96grf2"
      },
      "outputs": [],
      "source": [
        "model.summary()"
      ]
    },
    {
      "cell_type": "markdown",
      "source": [
        "# Compiling and Training"
      ],
      "metadata": {
        "id": "c-1PJzG4FZj-"
      }
    },
    {
      "cell_type": "code",
      "execution_count": null,
      "metadata": {
        "id": "fWWWWl6NhYGv"
      },
      "outputs": [],
      "source": [
        "model.compile(optimizer= \"adam\" , loss= \"binary_crossentropy\" , metrics= [\"accuracy\"])\n",
        "model.fit(x_train , y_train , epochs= 5 ,batch_size= 64 , validation_split= 0.2)"
      ]
    },
    {
      "cell_type": "markdown",
      "source": [
        "# Prediction System"
      ],
      "metadata": {
        "id": "PlRGtRMkFfi-"
      }
    },
    {
      "cell_type": "code",
      "source": [
        "from keras.models import load_model\n",
        "import joblib\n",
        "from tensorflow.keras.preprocessing.sequence import pad_sequences\n",
        "\n",
        "model = load_model(\"/content/model.h5\")\n",
        "tokenizer = joblib.load(\"/content/tokenizer.pkl\")\n",
        "\n",
        "from collections.abc import Sequence\n",
        "def predictive_system(review):\n",
        "  sequences = tokenizer.texts_to_sequences([review])\n",
        "  padded_sequence = pad_sequences(sequences, maxlen= 200)\n",
        "  prediction = model.predict(padded_sequence)\n",
        "  sentiment = \"positive\" if prediction[0][0] > 0.5 else \"negative\"\n",
        "  return sentiment"
      ],
      "metadata": {
        "id": "1hHLZMTfBfZw"
      },
      "execution_count": null,
      "outputs": []
    },
    {
      "cell_type": "markdown",
      "source": [
        "# Testing the Prediction System"
      ],
      "metadata": {
        "id": "THPaNy3yFlNP"
      }
    },
    {
      "cell_type": "code",
      "source": [
        "review_sentiment = predictive_system(\"it is good\")"
      ],
      "metadata": {
        "id": "5I4PUxkhB2oZ"
      },
      "execution_count": null,
      "outputs": []
    },
    {
      "cell_type": "code",
      "source": [
        "review_sentiment"
      ],
      "metadata": {
        "id": "l-WWLSVYB3O6"
      },
      "execution_count": null,
      "outputs": []
    },
    {
      "cell_type": "markdown",
      "source": [
        "# Deploying with Gradio"
      ],
      "metadata": {
        "id": "zvt6YZHkFp_8"
      }
    },
    {
      "cell_type": "code",
      "source": [
        "!pip install gradio"
      ],
      "metadata": {
        "id": "CD6q2GS8B6Ty"
      },
      "execution_count": null,
      "outputs": []
    },
    {
      "cell_type": "code",
      "source": [
        "import gradio as gr\n",
        "title = \"SENTIMENT ANALYSIS APPLICATION\"\n",
        "\n",
        "app = gr.Interface(fn = predictive_system , inputs=\"textbox\" , outputs=\"textbox\" , title=title)\n",
        "app.launch(share= True)\n"
      ],
      "metadata": {
        "id": "8B7MHbR8B9hy"
      },
      "execution_count": null,
      "outputs": []
    }
  ],
  "metadata": {
    "colab": {
      "provenance": [],
      "gpuType": "T4"
    },
    "kernelspec": {
      "display_name": "Python 3",
      "name": "python3"
    },
    "language_info": {
      "name": "python"
    },
    "accelerator": "GPU"
  },
  "nbformat": 4,
  "nbformat_minor": 0
}